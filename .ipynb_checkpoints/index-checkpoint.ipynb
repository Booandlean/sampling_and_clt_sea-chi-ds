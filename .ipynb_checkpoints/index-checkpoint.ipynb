{
 "cells": [
  {
   "cell_type": "markdown",
   "metadata": {
    "slideshow": {
     "slide_type": "slide"
    }
   },
   "source": [
    "# Sampling"
   ]
  },
  {
   "cell_type": "markdown",
   "metadata": {
    "slideshow": {
     "slide_type": "slide"
    }
   },
   "source": [
    "## Population Inference"
   ]
  },
  {
   "cell_type": "markdown",
   "metadata": {
    "slideshow": {
     "slide_type": "fragment"
    }
   },
   "source": [
    "The mayor's office has hired Flatiron Data Science Immersive students to determine a way to fix traffic congestion. A good starting point is to determine out what proportion of the population of Seattle owns a car.\n",
    "\n",
    "In order for us to make any determinations about a population, we must first get information about it.\n",
    "\n",
    "Because it's impractical to ever usually get data about *everyone* in a population, we must take a sample.\n",
    "\n"
   ]
  },
  {
   "cell_type": "markdown",
   "metadata": {
    "slideshow": {
     "slide_type": "slide"
    }
   },
   "source": [
    "What do we want our sample to look like?\n",
    "\n",
    "In particular, what relationship do we want between the sample and the population? What steps can we take to improve our odds of success in achieving this?\n",
    "\n",
    "![pop](./img/sample_pop.png)"
   ]
  },
  {
   "cell_type": "markdown",
   "metadata": {
    "slideshow": {
     "slide_type": "slide"
    }
   },
   "source": [
    "**Random sampling is not easy to do. Let's look at an example:**\n",
    "\n",
    "Imagine you are trying to determine what proportion of DC metro area people own a car.\n",
    "\n",
    "Here are two strategies we might employ:\n",
    "\n",
    "* Stand outside of Flatiron at 12 pm and ask random people until *n* responses\n",
    "\n",
    "\n",
    "* Go to a randomly assigned street corner and at a random time and ask *n* people if they own a car\n",
    "\n",
    "Which strikes you as better?"
   ]
  },
  {
   "cell_type": "markdown",
   "metadata": {
    "slideshow": {
     "slide_type": "fragment"
    }
   },
   "source": [
    "When we gather a sample, we are trying to minimize the bias of our sample while also minimizing our cost."
   ]
  },
  {
   "cell_type": "markdown",
   "metadata": {
    "slideshow": {
     "slide_type": "slide"
    }
   },
   "source": [
    "##### Population v Sample Terminology\n",
    "Characteristics of populations are called *parameters*\n",
    "\n",
    "Characteristics of a sample are called *statistics*\n",
    "\n",
    "![imgsample](./img/sample_stats.png)"
   ]
  },
  {
   "cell_type": "markdown",
   "metadata": {},
   "source": [
    "So, we decide on an appropriate manner to collect the sample (more to come in power and effect), collect it, then calculate a sample statistic. \n",
    "\n",
    "Let's simulate this with code.  \n",
    "\n",
    "Let's create a population of systolic blood pressure of adult males in Chicago, assuming a mean of 114 with a standard deviation of 11.  We will also assume the adult male population to be 1.5 million. \n"
   ]
  },
  {
   "cell_type": "code",
   "execution_count": 2,
   "metadata": {},
   "outputs": [
    {
     "data": {
      "text/plain": [
       "Text(0.5, 0, 'Systolic BP')"
      ]
     },
     "execution_count": 2,
     "metadata": {},
     "output_type": "execute_result"
    },
    {
     "data": {
      "image/png": "[encoded data removed]",
      "text/plain": [
       "<Figure size 432x288 with 1 Axes>"
      ]
     },
     "metadata": {
      "needs_background": "light"
     },
     "output_type": "display_data"
    }
   ],
   "source": [
    "import numpy as np\n",
    "import seaborn as sns\n",
    "import matplotlib.pyplot as plt\n",
    "\n",
    "pop = int(1.5*10**6)\n",
    "sys_pop = np.random.normal(114, 11, pop)\n",
    "\n",
    "fig, ax = plt.subplots()\n",
    "\n",
    "sns.kdeplot(sys_pop, ax=ax)\n",
    "ax.set_title('Adult Male Systolic Blood Pressure')\n",
    "ax.set_xlabel('Systolic BP')"
   ]
  },
  {
   "cell_type": "markdown",
   "metadata": {},
   "source": [
    "We randomly sample 50 men from this population, resulting in the following sample."
   ]
  },
  {
   "cell_type": "code",
   "execution_count": 3,
   "metadata": {},
   "outputs": [],
   "source": [
    "sample = np.random.choice(sys_pop, 50)"
   ]
  },
  {
   "cell_type": "markdown",
   "metadata": {},
   "source": [
    "We can then calculate sample statistics."
   ]
  },
  {
   "cell_type": "code",
   "execution_count": 4,
   "metadata": {},
   "outputs": [
    {
     "name": "stdout",
     "output_type": "stream",
     "text": [
      "Sample mean: 117.32143521266951\n",
      "Sample standard deviation: 9.93574629444601\n",
      "Sample median: 118.24184711253844\n"
     ]
    }
   ],
   "source": [
    "print(f'Sample mean: {sample.mean()}')\n",
    "print(f'Sample standard deviation: {sample.std()}')\n",
    "print(f'Sample median: {np.median(sample)}')"
   ]
  },
  {
   "cell_type": "markdown",
   "metadata": {},
   "source": [
    "If we repeated this process, taking samples of the population repeatedly, we would get an array of sample statistics."
   ]
  },
  {
   "cell_type": "code",
   "execution_count": 5,
   "metadata": {},
   "outputs": [],
   "source": [
    "number_of_samples = 1000\n",
    "sample_size = 50\n",
    "sample_stats = []\n",
    "for _ in range(number_of_samples):\n",
    "    sample = np.random.choice(sys_pop, sample_size)\n",
    "    # collect the mean of each of the 1000 samples in sample stats\n",
    "    sample_stats.append(sample.mean())\n"
   ]
  },
  {
   "cell_type": "markdown",
   "metadata": {},
   "source": [
    "The collection of sample stats represents our __sampling distribution__"
   ]
  },
  {
   "cell_type": "code",
   "execution_count": 6,
   "metadata": {},
   "outputs": [
    {
     "data": {
      "image/png": "[encoded data removed]",
      "text/plain": [
       "<Figure size 432x288 with 1 Axes>"
      ]
     },
     "metadata": {
      "needs_background": "light"
     },
     "output_type": "display_data"
    }
   ],
   "source": [
    "fig, ax = plt.subplots()\n",
    "ax.hist(sorted(sample_stats), bins=20)\n",
    "ax.set_title('Sampling Distribution\\n of Systolic BP')\n",
    "ax.set_xlabel(\"Systolic Blood Pressure\")\n",
    "ax.set_ylabel('Count');"
   ]
  },
  {
   "cell_type": "markdown",
   "metadata": {},
   "source": [
    "## Group Exercise"
   ]
  },
  {
   "cell_type": "markdown",
   "metadata": {},
   "source": [
    "Below, we have four different sample scenarios.  Each group will code out the following: \n",
    "\n",
    "You are given a \"population\" to sample from based on the type of distribution.\n",
    "\n",
    "1. Take a random sample of size n, where n > 30, from the population and calculate the mean of that population.\n",
    "\n",
    "2. Repeat the sample n numbers of times (n = 1000). \n",
    "\n",
    "3. Plot the sampling distribution"
   ]
  },
  {
   "cell_type": "markdown",
   "metadata": {},
   "source": [
    "## Group 1:\n",
    "\n",
    "A bowler on the PBA rolls a strike 60% of the time. The population strikes of all games ever bowled is stored in in the population variable below.\n"
   ]
  },
  {
   "cell_type": "code",
   "execution_count": 29,
   "metadata": {},
   "outputs": [
    {
     "data": {
      "text/plain": [
       "Text(0.5, 1.0, 'Strikes Per Game')"
      ]
     },
     "execution_count": 29,
     "metadata": {},
     "output_type": "execute_result"
    },
    {
     "data": {
      "image/png": "[encoded data removed]",
      "text/plain": [
       "<Figure size 432x288 with 1 Axes>"
      ]
     },
     "metadata": {
      "needs_background": "light"
     },
     "output_type": "display_data"
    }
   ],
   "source": [
    "population = np.random.binomial(12, .6, 10000)\n",
    "fig, ax = plt.subplots()\n",
    "ax.bar(range(0,12), np.unique(population, return_counts=True)[1])\n",
    "ax.set_title('Strikes Per Game')"
   ]
  },
  {
   "cell_type": "code",
   "execution_count": 18,
   "metadata": {},
   "outputs": [
    {
     "data": {
      "text/plain": [
       "(array([  1.,   5.,  15.,  22.,  45.,  73.,  72., 113., 120., 140., 111.,\n",
       "        103.,  77.,  40.,  35.,  18.,   2.,   5.,   2.,   1.]),\n",
       " array([6.5  , 6.577, 6.654, 6.731, 6.808, 6.885, 6.962, 7.039, 7.116,\n",
       "        7.193, 7.27 , 7.347, 7.424, 7.501, 7.578, 7.655, 7.732, 7.809,\n",
       "        7.886, 7.963, 8.04 ]),\n",
       " <a list of 20 Patch objects>)"
      ]
     },
     "execution_count": 18,
     "metadata": {},
     "output_type": "execute_result"
    },
    {
     "data": {
      "image/png": "[encoded data removed]",
      "text/plain": [
       "<Figure size 432x288 with 1 Axes>"
      ]
     },
     "metadata": {
      "needs_background": "light"
     },
     "output_type": "display_data"
    }
   ],
   "source": [
    "#__SOLUTION__\n",
    "\n",
    "sample_means = []\n",
    "for n in range(1000):\n",
    "    sample = np.random.choice(population, 50)\n",
    "    sample_means.append(sample.mean())\n",
    "    \n",
    "fig, ax = plt.subplots()\n",
    "ax.hist(sample_means, bins = 20)"
   ]
  },
  {
   "cell_type": "markdown",
   "metadata": {},
   "source": [
    "## Group 2:\n",
    "\n",
    "Stored in the variable below is the number of pieces of mail that arrive per week at your door for each of the 4500 weeks in your life.  "
   ]
  },
  {
   "cell_type": "code",
   "execution_count": 35,
   "metadata": {},
   "outputs": [
    {
     "data": {
      "text/plain": [
       "Text(0.5, 0, 'Pieces of Mail')"
      ]
     },
     "execution_count": 35,
     "metadata": {},
     "output_type": "execute_result"
    },
    {
     "data": {
      "image/png": "[encoded data removed]",
      "text/plain": [
       "<Figure size 432x288 with 1 Axes>"
      ]
     },
     "metadata": {
      "needs_background": "light"
     },
     "output_type": "display_data"
    }
   ],
   "source": [
    "mail_population = np.random.poisson(3, 4500)\n",
    "counts = np.unique(mail_population, return_counts=True)\n",
    "\n",
    "fig, ax = plt.subplots()\n",
    "ax.bar(np.unique(counts[0]), counts[1])\n",
    "ax.set_title('Distribution of Pieces of Mail/Week')\n",
    "ax.set_xlabel(\"Pieces of Mail\")"
   ]
  },
  {
   "cell_type": "code",
   "execution_count": 114,
   "metadata": {},
   "outputs": [
    {
     "data": {
      "text/plain": [
       "Text(0.5, 0, 'Number of pieces of mail')"
      ]
     },
     "execution_count": 114,
     "metadata": {},
     "output_type": "execute_result"
    },
    {
     "data": {
      "image/png": "[encoded data removed]",
      "text/plain": [
       "<Figure size 432x288 with 1 Axes>"
      ]
     },
     "metadata": {
      "needs_background": "light"
     },
     "output_type": "display_data"
    }
   ],
   "source": [
    "#__SOLUTION__\n",
    "\n",
    "sample_means = []\n",
    "for n in range(1000):\n",
    "    sample = np.random.choice(mail_population, 50)\n",
    "    sample_means.append(sample.mean())\n",
    "    \n",
    "fig, ax = plt.subplots()\n",
    "ax.hist(sample_means, bins = 30)\n",
    "ax.set_title('Sample Means of Pieces of Mail\\n Arriving at your door')\n",
    "ax.set_xlabel('Number of pieces of mail')"
   ]
  },
  {
   "cell_type": "markdown",
   "metadata": {},
   "source": [
    "# Group 3 \n",
    "\n",
    "The population data for the number of minutes between customers arriving in a Piggly Wiggly is stored in the variable piggly_population."
   ]
  },
  {
   "cell_type": "code",
   "execution_count": 110,
   "metadata": {},
   "outputs": [
    {
     "name": "stderr",
     "output_type": "stream",
     "text": [
      "/Users/johnmaxbarry/.local/lib/python3.7/site-packages/ipykernel_launcher.py:4: MatplotlibDeprecationWarning: \n",
      "The 'normed' kwarg was deprecated in Matplotlib 2.1 and will be removed in 3.1. Use 'density' instead.\n",
      "  after removing the cwd from sys.path.\n"
     ]
    },
    {
     "data": {
      "image/png": "[encoded data removed]",
      "text/plain": [
       "<Figure size 432x288 with 1 Axes>"
      ]
     },
     "metadata": {
      "needs_background": "light"
     },
     "output_type": "display_data"
    }
   ],
   "source": [
    "# on average, 20 customers enter per hour\n",
    "piggly_population = np.random.exponential(1/(20/60), size=10000)\n",
    "fig, ax = plt.subplots()\n",
    "ax.hist(piggly_population, bins = 50, normed=True)\n",
    "ax.set_title('Sample Means of Time Between Piggle Wiggly Customers')\n",
    "ax.set_xlabel('Minutes');"
   ]
  },
  {
   "cell_type": "code",
   "execution_count": 118,
   "metadata": {},
   "outputs": [
    {
     "data": {
      "text/plain": [
       "Text(0.5, 0, 'Number of minutes between customers')"
      ]
     },
     "execution_count": 118,
     "metadata": {},
     "output_type": "execute_result"
    },
    {
     "data": {
      "image/png": "[encoded data removed]",
      "text/plain": [
       "<Figure size 432x288 with 1 Axes>"
      ]
     },
     "metadata": {
      "needs_background": "light"
     },
     "output_type": "display_data"
    }
   ],
   "source": [
    "#__SOLUTION__\n",
    "\n",
    "sample_means = []\n",
    "for n in range(1000):\n",
    "    sample = np.random.choice(piggly_population, 50)\n",
    "    sample_means.append(sample.mean())\n",
    "    \n",
    "fig, ax = plt.subplots()\n",
    "ax.hist(sample_means, bins = 30);\n",
    "ax.set_title(\"\"\"Sample means of number of minutes\\n between people entering a Piggly Wiggly\"\"\")\n",
    "ax.set_xlabel(\"Number of minutes between customers\")"
   ]
  },
  {
   "cell_type": "markdown",
   "metadata": {
    "slideshow": {
     "slide_type": "slide"
    }
   },
   "source": [
    "## Central Limit Theorem"
   ]
  },
  {
   "cell_type": "markdown",
   "metadata": {
    "slideshow": {
     "slide_type": "slide"
    }
   },
   "source": [
    "If we take repeated samples of a population, the sampling distribution of sample means will approximate to a normal distribution, no matter the underlying distribution!\n",
    "\n",
    "## $E(\\bar{x_{n}}) = \\mu$\n",
    "\n",
    "as n --> \"large\"\n",
    "\n",
    "[good D3 example](https://seeing-theory.brown.edu/probability-distributions/index.html)\n",
    "\n",
    "[good video demonstration](https://www.youtube.com/watch?v=jvoxEYmQHNM)\n"
   ]
  },
  {
   "cell_type": "markdown",
   "metadata": {
    "slideshow": {
     "slide_type": "slide"
    }
   },
   "source": [
    "Let's look at an example taken from the ubiquitous Iris dataset. This histogram represents the distributions of sepal length:\n",
    "\n",
    "\n",
    "![probgif](./img/probability-basics.gif)"
   ]
  },
  {
   "cell_type": "markdown",
   "metadata": {},
   "source": [
    "https://www.kaggle.com/tentotheminus9/central-limit-theorem-animation"
   ]
  },
  {
   "cell_type": "markdown",
   "metadata": {},
   "source": [
    "As we will see in hypothesis testing, pairing this theorem with the Empirical rule will be very powerful.\n",
    "\n",
    "![empirical](img/empirical_rule.png)\n",
    "\n"
   ]
  },
  {
   "cell_type": "markdown",
   "metadata": {},
   "source": [
    "Knowing that any sampling distribtion, no matter the underlying population distribution, will approach normality, we will be able to judge, given the empirical rule, how rare a given sample statistic is.  "
   ]
  },
  {
   "cell_type": "markdown",
   "metadata": {
    "slideshow": {
     "slide_type": "slide"
    }
   },
   "source": [
    "### An Example\n",
    "A bicycle advocacy group has come to us to see if it would make sense to increase the length of time users of Capital Bike Share have to ride on their bikes before they have to return them. Let's analyze a collection of Capital Bike Share data to determine if we should lengthen the time people have with their bikes.\n",
    "\n",
    "Let's head over [here](https://s3.amazonaws.com/capitalbikeshare-data/index.html) for some DC bike data!"
   ]
  },
  {
   "cell_type": "code",
   "execution_count": 122,
   "metadata": {
    "slideshow": {
     "slide_type": "subslide"
    }
   },
   "outputs": [],
   "source": [
    "import pandas as pd\n",
    "import numpy as np\n",
    "import matplotlib.pyplot as plt\n",
    "import requests\n",
    "%matplotlib inline\n"
   ]
  },
  {
   "cell_type": "code",
   "execution_count": 142,
   "metadata": {},
   "outputs": [
    {
     "name": "stdout",
     "output_type": "stream",
     "text": [
      "--2020-05-25 14:36:08--  https://s3.amazonaws.com/capitalbikeshare-data/202003-capitalbikeshare-tripdata.zip\n",
      "Resolving s3.amazonaws.com... 52.216.101.61\n",
      "Connecting to s3.amazonaws.com|52.216.101.61|:443... connected.\n",
      "HTTP request sent, awaiting response... 200 OK\n",
      "Length: 3835293 (3.7M) [application/zip]\n",
      "Saving to: 'temp.zip'\n",
      "\n",
      "temp.zip            100%[===================>]   3.66M  4.32MB/s    in 0.8s    \n",
      "\n",
      "2020-05-25 14:36:09 (4.32 MB/s) - 'temp.zip' saved [3835293/3835293]\n",
      "\n",
      "Archive:  temp.zip\n",
      "  inflating: 202003-capitalbikeshare-tripdata.csv  \n"
     ]
    }
   ],
   "source": [
    "! wget 'https://s3.amazonaws.com/capitalbikeshare-data/202003-capitalbikeshare-tripdata.zip' -O temp.zip\n",
    "! unzip temp.zip"
   ]
  },
  {
   "cell_type": "code",
   "execution_count": null,
   "metadata": {},
   "outputs": [],
   "source": []
  },
  {
   "cell_type": "code",
   "execution_count": 144,
   "metadata": {},
   "outputs": [],
   "source": [
    "df = pd.read_csv('202003-capitalbikeshare-tripdata.csv')"
   ]
  },
  {
   "cell_type": "code",
   "execution_count": 145,
   "metadata": {
    "slideshow": {
     "slide_type": "slide"
    }
   },
   "outputs": [
    {
     "data": {
      "text/html": [
       "<div>\n",
       "<style scoped>\n",
       "    .dataframe tbody tr th:only-of-type {\n",
       "        vertical-align: middle;\n",
       "    }\n",
       "\n",
       "    .dataframe tbody tr th {\n",
       "        vertical-align: top;\n",
       "    }\n",
       "\n",
       "    .dataframe thead th {\n",
       "        text-align: right;\n",
       "    }\n",
       "</style>\n",
       "<table border=\"1\" class=\"dataframe\">\n",
       "  <thead>\n",
       "    <tr style=\"text-align: right;\">\n",
       "      <th></th>\n",
       "      <th>Duration</th>\n",
       "      <th>Start date</th>\n",
       "      <th>End date</th>\n",
       "      <th>Start station number</th>\n",
       "      <th>Start station</th>\n",
       "      <th>End station number</th>\n",
       "      <th>End station</th>\n",
       "      <th>Bike number</th>\n",
       "      <th>Member type</th>\n",
       "    </tr>\n",
       "  </thead>\n",
       "  <tbody>\n",
       "    <tr>\n",
       "      <th>162525</th>\n",
       "      <td>673</td>\n",
       "      <td>2020-03-31 23:17:58</td>\n",
       "      <td>2020-03-31 23:29:12</td>\n",
       "      <td>31235</td>\n",
       "      <td>19th St &amp; Constitution Ave NW</td>\n",
       "      <td>31265</td>\n",
       "      <td>5th St &amp; Massachusetts Ave NW</td>\n",
       "      <td>W22920</td>\n",
       "      <td>Member</td>\n",
       "    </tr>\n",
       "    <tr>\n",
       "      <th>162526</th>\n",
       "      <td>514</td>\n",
       "      <td>2020-03-31 23:18:13</td>\n",
       "      <td>2020-03-31 23:26:47</td>\n",
       "      <td>31203</td>\n",
       "      <td>14th &amp; Rhode Island Ave NW</td>\n",
       "      <td>31324</td>\n",
       "      <td>18th &amp; New Hampshire Ave NW</td>\n",
       "      <td>21054</td>\n",
       "      <td>Member</td>\n",
       "    </tr>\n",
       "    <tr>\n",
       "      <th>162527</th>\n",
       "      <td>1524</td>\n",
       "      <td>2020-03-31 23:29:00</td>\n",
       "      <td>2020-03-31 23:54:25</td>\n",
       "      <td>31110</td>\n",
       "      <td>20th St &amp; Florida Ave NW</td>\n",
       "      <td>31403</td>\n",
       "      <td>5th &amp; Kennedy St NW</td>\n",
       "      <td>W24341</td>\n",
       "      <td>Member</td>\n",
       "    </tr>\n",
       "    <tr>\n",
       "      <th>162528</th>\n",
       "      <td>565</td>\n",
       "      <td>2020-03-31 23:41:17</td>\n",
       "      <td>2020-03-31 23:50:43</td>\n",
       "      <td>31603</td>\n",
       "      <td>1st &amp; M St NE</td>\n",
       "      <td>31256</td>\n",
       "      <td>10th &amp; E St NW</td>\n",
       "      <td>W22691</td>\n",
       "      <td>Member</td>\n",
       "    </tr>\n",
       "    <tr>\n",
       "      <th>162529</th>\n",
       "      <td>1054</td>\n",
       "      <td>2020-03-31 23:45:05</td>\n",
       "      <td>2020-04-01 00:02:40</td>\n",
       "      <td>31325</td>\n",
       "      <td>Reservoir Rd &amp; 38th St NW</td>\n",
       "      <td>31214</td>\n",
       "      <td>17th &amp; Corcoran St NW</td>\n",
       "      <td>W24051</td>\n",
       "      <td>Member</td>\n",
       "    </tr>\n",
       "  </tbody>\n",
       "</table>\n",
       "</div>"
      ],
      "text/plain": [
       "        Duration           Start date             End date  \\\n",
       "162525       673  2020-03-31 23:17:58  2020-03-31 23:29:12   \n",
       "162526       514  2020-03-31 23:18:13  2020-03-31 23:26:47   \n",
       "162527      1524  2020-03-31 23:29:00  2020-03-31 23:54:25   \n",
       "162528       565  2020-03-31 23:41:17  2020-03-31 23:50:43   \n",
       "162529      1054  2020-03-31 23:45:05  2020-04-01 00:02:40   \n",
       "\n",
       "        Start station number                  Start station  \\\n",
       "162525                 31235  19th St & Constitution Ave NW   \n",
       "162526                 31203     14th & Rhode Island Ave NW   \n",
       "162527                 31110       20th St & Florida Ave NW   \n",
       "162528                 31603                  1st & M St NE   \n",
       "162529                 31325      Reservoir Rd & 38th St NW   \n",
       "\n",
       "        End station number                    End station Bike number  \\\n",
       "162525               31265  5th St & Massachusetts Ave NW      W22920   \n",
       "162526               31324    18th & New Hampshire Ave NW       21054   \n",
       "162527               31403            5th & Kennedy St NW      W24341   \n",
       "162528               31256                 10th & E St NW      W22691   \n",
       "162529               31214          17th & Corcoran St NW      W24051   \n",
       "\n",
       "       Member type  \n",
       "162525      Member  \n",
       "162526      Member  \n",
       "162527      Member  \n",
       "162528      Member  \n",
       "162529      Member  "
      ]
     },
     "execution_count": 145,
     "metadata": {},
     "output_type": "execute_result"
    }
   ],
   "source": [
    "df.tail()"
   ]
  },
  {
   "cell_type": "code",
   "execution_count": 146,
   "metadata": {
    "slideshow": {
     "slide_type": "subslide"
    }
   },
   "outputs": [],
   "source": [
    "trip_durations = df['Duration'] / 60\n",
    "trip_durations_2hr = trip_durations[trip_durations < 2*60]"
   ]
  },
  {
   "cell_type": "markdown",
   "metadata": {},
   "source": [
    "#### The length of a bike ride\n",
    "\n",
    "What shape do you expect the distribution of trip durations to have?"
   ]
  },
  {
   "cell_type": "markdown",
   "metadata": {
    "slideshow": {
     "slide_type": "slide"
    }
   },
   "source": [
    "#### Get population statistics"
   ]
  },
  {
   "cell_type": "code",
   "execution_count": 147,
   "metadata": {
    "slideshow": {
     "slide_type": "-"
    }
   },
   "outputs": [
    {
     "data": {
      "image/png": "[encoded data removed]",
      "text/plain": [
       "<Figure size 432x288 with 1 Axes>"
      ]
     },
     "metadata": {
      "needs_background": "light"
     },
     "output_type": "display_data"
    }
   ],
   "source": [
    "trip_durations_2hr.hist(bins=100);"
   ]
  },
  {
   "cell_type": "code",
   "execution_count": 148,
   "metadata": {
    "slideshow": {
     "slide_type": "-"
    }
   },
   "outputs": [
    {
     "data": {
      "text/plain": [
       "12.083333333333334"
      ]
     },
     "execution_count": 148,
     "metadata": {},
     "output_type": "execute_result"
    }
   ],
   "source": [
    "trip_durations_2hr.median()"
   ]
  },
  {
   "cell_type": "markdown",
   "metadata": {},
   "source": [
    "Let's treat the whole dataset as our population."
   ]
  },
  {
   "cell_type": "code",
   "execution_count": 149,
   "metadata": {
    "slideshow": {
     "slide_type": "-"
    }
   },
   "outputs": [
    {
     "name": "stdout",
     "output_type": "stream",
     "text": [
      "pop_mean is 18.978877745646678 \n",
      "pop_std is 36.47173596361402\n"
     ]
    }
   ],
   "source": [
    "pop_mean = trip_durations.mean()\n",
    "pop_std = trip_durations.std()\n",
    "print(f'pop_mean is {pop_mean} \\npop_std is {pop_std}')"
   ]
  },
  {
   "cell_type": "markdown",
   "metadata": {
    "slideshow": {
     "slide_type": "slide"
    }
   },
   "source": [
    "#### When we take multiple samples from the distribution, and plot the means of each sample, the shape of the curve shifts.\n",
    "\n",
    "![means](./img/meansofsamples.png)"
   ]
  },
  {
   "cell_type": "markdown",
   "metadata": {
    "slideshow": {
     "slide_type": "slide"
    }
   },
   "source": [
    "#### The number of samples drives the shape of the curve more than the sample size itself\n",
    "\n",
    "![moremeans](./img/moresamplescurve.png)"
   ]
  },
  {
   "cell_type": "markdown",
   "metadata": {
    "slideshow": {
     "slide_type": "slide"
    }
   },
   "source": [
    "**Fewer samples**\n",
    "![lesssamples](./img/lesssamplescurve.png)"
   ]
  },
  {
   "cell_type": "markdown",
   "metadata": {
    "slideshow": {
     "slide_type": "slide"
    }
   },
   "source": [
    "### Let's confirm with code ourselves!"
   ]
  },
  {
   "cell_type": "code",
   "execution_count": 150,
   "metadata": {
    "slideshow": {
     "slide_type": "fragment"
    }
   },
   "outputs": [],
   "source": [
    "def one_sample_mean(population):\n",
    "    sample = np.random.choice(population, size=200, replace=True)\n",
    "    return sample.mean()"
   ]
  },
  {
   "cell_type": "code",
   "execution_count": 151,
   "metadata": {},
   "outputs": [
    {
     "data": {
      "text/plain": [
       "18.519333333333336"
      ]
     },
     "execution_count": 151,
     "metadata": {},
     "output_type": "execute_result"
    }
   ],
   "source": [
    "one_sample_mean(trip_durations_2hr)"
   ]
  },
  {
   "cell_type": "code",
   "execution_count": 152,
   "metadata": {
    "slideshow": {
     "slide_type": "slide"
    }
   },
   "outputs": [
    {
     "data": {
      "image/png": "[encoded data removed]",
      "text/plain": [
       "<Figure size 432x288 with 1 Axes>"
      ]
     },
     "metadata": {
      "needs_background": "light"
     },
     "output_type": "display_data"
    }
   ],
   "source": [
    "d = [one_sample_mean(trip_durations) for i in range(1000)]\n",
    "plt.hist(d, bins=50);"
   ]
  },
  {
   "cell_type": "code",
   "execution_count": 165,
   "metadata": {
    "slideshow": {
     "slide_type": "slide"
    }
   },
   "outputs": [],
   "source": [
    "import seaborn as sns\n",
    "\n",
    "def central_limit_theorem_plotter(distribution, sample_size, num_samples):\n",
    "    sample_means = np.zeros(num_samples)\n",
    "    for idx, num in enumerate(range(num_samples)):\n",
    "        sample = np.random.choice(distribution, size=sample_size, replace=True)\n",
    "        sample_means[idx] = sample.mean()\n",
    "    sns.distplot(sample_means, bins=80, kde=True)\n",
    "    title = f'Sample Distribution n = {sample_size} and number of samples = {num_samples},\\\n",
    "    std error = {pop_std / num_samples}'\n",
    "    print(f'mean = {sample_means.mean()}')\n",
    "    plt.title(title)"
   ]
  },
  {
   "cell_type": "code",
   "execution_count": 166,
   "metadata": {
    "scrolled": true,
    "slideshow": {
     "slide_type": "slide"
    }
   },
   "outputs": [
    {
     "name": "stdout",
     "output_type": "stream",
     "text": [
      "mean = 18.96967568\n"
     ]
    },
    {
     "data": {
      "image/png": "[encoded data removed]",
      "text/plain": [
       "<Figure size 432x288 with 1 Axes>"
      ]
     },
     "metadata": {
      "needs_background": "light"
     },
     "output_type": "display_data"
    }
   ],
   "source": [
    "central_limit_theorem_plotter(trip_durations, 10000, 500);"
   ]
  },
  {
   "cell_type": "code",
   "execution_count": 167,
   "metadata": {
    "scrolled": true,
    "slideshow": {
     "slide_type": "slide"
    }
   },
   "outputs": [
    {
     "name": "stdout",
     "output_type": "stream",
     "text": [
      "mean = 18.362706666666664\n"
     ]
    },
    {
     "data": {
      "image/png": "[encoded data removed]",
      "text/plain": [
       "<Figure size 432x288 with 1 Axes>"
      ]
     },
     "metadata": {
      "needs_background": "light"
     },
     "output_type": "display_data"
    }
   ],
   "source": [
    "central_limit_theorem_plotter(trip_durations, 100, 50);"
   ]
  },
  {
   "cell_type": "markdown",
   "metadata": {},
   "source": [
    "* What happens as we increase the sample size?\n",
    "* How does the height of the distribution change? Why does it change?"
   ]
  },
  {
   "cell_type": "markdown",
   "metadata": {
    "slideshow": {
     "slide_type": "slide"
    }
   },
   "source": [
    "### Show with exponential"
   ]
  },
  {
   "cell_type": "code",
   "execution_count": 168,
   "metadata": {},
   "outputs": [],
   "source": [
    "exponential = np.random.exponential(scale= 1, size=1000)"
   ]
  },
  {
   "cell_type": "code",
   "execution_count": 171,
   "metadata": {
    "slideshow": {
     "slide_type": "slide"
    }
   },
   "outputs": [
    {
     "data": {
      "image/png": "[encoded data removed]",
      "text/plain": [
       "<Figure size 432x288 with 1 Axes>"
      ]
     },
     "metadata": {
      "needs_background": "light"
     },
     "output_type": "display_data"
    }
   ],
   "source": [
    "plt.hist(exponential, bins=50);"
   ]
  },
  {
   "cell_type": "code",
   "execution_count": 170,
   "metadata": {
    "slideshow": {
     "slide_type": "slide"
    }
   },
   "outputs": [
    {
     "name": "stdout",
     "output_type": "stream",
     "text": [
      "mean = 1.0663546365385943\n"
     ]
    },
    {
     "data": {
      "image/png": "[encoded data removed]",
      "text/plain": [
       "<Figure size 432x288 with 1 Axes>"
      ]
     },
     "metadata": {
      "needs_background": "light"
     },
     "output_type": "display_data"
    }
   ],
   "source": [
    "central_limit_theorem_plotter(exponential, 4000, 10000)"
   ]
  },
  {
   "cell_type": "markdown",
   "metadata": {
    "slideshow": {
     "slide_type": "slide"
    }
   },
   "source": [
    "### Standard Error of the Mean"
   ]
  },
  {
   "cell_type": "markdown",
   "metadata": {},
   "source": [
    "The standard error of the mean is the standard deviation of the sampling distribution.\n",
    "The issue is that a sample is not an exact replica of the population. We need to account for that fact in order to make our estimate of the $\\mu$ value possible. Let's break it down:\n",
    "\n",
    "**Population sigma** <br/>\n",
    "\n",
    "$\\large\\sigma _{x} = \\frac{\\sigma }{\\sqrt{n}}$\n",
    "\n",
    "* $ \\sigma _{x}$ = standard error of $\\bar{x} $\n",
    "* $ \\sigma $ = standard deviation of population"
   ]
  },
  {
   "cell_type": "markdown",
   "metadata": {
    "slideshow": {
     "slide_type": "slide"
    }
   },
   "source": [
    "**What if we do not know the population sigma?**<br>\n",
    "If we do not know the population standard deviation, we can approximate it by using the sample standard deviation.\n",
    "\n",
    "$\\large\\sigma _{x} ≈ \\frac{s}{\\sqrt{n}}$\n",
    "\n",
    "* s = sample standard deviation"
   ]
  },
  {
   "cell_type": "markdown",
   "metadata": {
    "slideshow": {
     "slide_type": "slide"
    }
   },
   "source": [
    "**Sample size impact on standard error of mean**<br>\n",
    "\n",
    "How should sample size influence standard error of the mean?\n",
    "\n",
    "It will get *smaller* as sample size *increases*\n",
    "\n",
    "![error](./img/diminishing_error.png)\n",
    "Important implication: The Standard Error of the mean remains the same as long as the population standard deviation is known and sample size remains the same.\n"
   ]
  },
  {
   "cell_type": "code",
   "execution_count": null,
   "metadata": {},
   "outputs": [],
   "source": []
  }
 ],
 "metadata": {
  "kernelspec": {
   "display_name": "Python 3",
   "language": "python",
   "name": "python3"
  },
  "language_info": {
   "codemirror_mode": {
    "name": "ipython",
    "version": 3
   },
   "file_extension": ".py",
   "mimetype": "text/x-python",
   "name": "python",
   "nbconvert_exporter": "python",
   "pygments_lexer": "ipython3",
   "version": "3.7.3"
  }
 },
 "nbformat": 4,
 "nbformat_minor": 4
}
